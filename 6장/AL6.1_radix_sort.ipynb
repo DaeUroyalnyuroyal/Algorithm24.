{
 "cells": [
  {
   "cell_type": "markdown",
   "metadata": {},
   "source": [
    "## 1. 문제정의"
   ]
  },
  {
   "cell_type": "markdown",
   "metadata": {},
   "source": [
    "기수 정렬"
   ]
  },
  {
   "cell_type": "markdown",
   "metadata": {},
   "source": [
    "## 2. 알고리즘 설명"
   ]
  },
  {
   "cell_type": "markdown",
   "metadata": {},
   "source": [
    "기수 정렬은 숫자를 자릿수 별로 비교하여 정렬하는 방법입니다. 이 코드에서는 10진법을 기준으로 정렬합니다."
   ]
  },
  {
   "cell_type": "markdown",
   "metadata": {},
   "source": [
    "## 3. 손으로 푼 예제"
   ]
  },
  {
   "cell_type": "markdown",
   "metadata": {},
   "source": [
    "## 4. 코드개요"
   ]
  },
  {
   "cell_type": "markdown",
   "metadata": {},
   "source": [
    "함수명: radix_sort\n",
    "\n",
    "입력:\n",
    "A: 정렬할 리스트\n",
    "변환값: 없음\n",
    "\n",
    "1. BUCKETS개의 큐를 가지는 리스트 queues를 생성합니다.\n",
    "\n",
    "2. 리스트 A의 길이를 변수 n에 저장합니다.\n",
    "3. 변수 factor를 1로 초기화합니다. 이는 자릿수를 결정합니다.\n",
    "4. DIGITS만큼 반복합니다:\n",
    "   1. 리스트 A의 각 요소를 순회하며, 해당 자릿수에 맞는 큐에 숫자를 삽입합니다.\n",
    "   2. 각 버킷에 저장된 숫자를 꺼내어 원래 리스트에 저장합니다.\n",
    "   3. factor를 BUCKETS로 곱하여 다음 자릿수로 이동합니다.\n",
    "   4. 중간 과정을 출력합니다."
   ]
  },
  {
   "cell_type": "markdown",
   "metadata": {},
   "source": [
    "## 5. 코드"
   ]
  },
  {
   "cell_type": "code",
   "execution_count": 1,
   "metadata": {},
   "outputs": [],
   "source": [
    "from queue import Queue # 파이썬 queue 모듈의 Queue 사용 \n",
    "def radix_sort(A) : \n",
    "    queues = [] # 큐의 리스트 \n",
    "    for i in range(BUCKETS) : \n",
    "        queues.append(Queue()) # BUCKETS개의 큐 사용\n",
    "    n = len(A)\n",
    "    factor = 1         #1의 자리부터 시작\n",
    "    for d in range (DIGITS) :   #모든 자리에 대해\n",
    "        for i in range(n):       #자릿수에 따라 큐에 삽입\n",
    "            queues[(A[i]//factor) % BUCKETS].put(A[i]) # 숫자를 삽입\n",
    "        j=0\n",
    "        for b in range(BUCKETS) :   #버킷에서 꺼내어 원래의 리스트로\n",
    "            while not queues[b].empty():  #b번째 큐가 공백이 아닌 동안\n",
    "                A[j] = queues[b].get()    #원소를 꺼내 리스트에 저장\n",
    "                j+1\n",
    "        factor *= BUCKETS   #그 다음 자릿수로 간다.\n",
    "        print(\"step\", d+1, A)   #중간 과정 출력용 문장"
   ]
  },
  {
   "cell_type": "markdown",
   "metadata": {},
   "source": [
    "## 6. 테스트 코드"
   ]
  },
  {
   "cell_type": "code",
   "execution_count": 3,
   "metadata": {},
   "outputs": [
    {
     "name": "stdout",
     "output_type": "stream",
     "text": [
      "step 1 [1679, 5918, 7962, 9241, 5165, 6875, 780, 2865, 1679, 7121]\n",
      "step 2 [780, 5918, 7962, 9241, 5165, 6875, 780, 2865, 1679, 7121]\n",
      "step 3 [7962, 5918, 7962, 9241, 5165, 6875, 780, 2865, 1679, 7121]\n",
      "step 4 [9241, 5918, 7962, 9241, 5165, 6875, 780, 2865, 1679, 7121]\n",
      "Radix:  [9241, 5918, 7962, 9241, 5165, 6875, 780, 2865, 1679, 7121]\n"
     ]
    }
   ],
   "source": [
    "import random # 테스트를 위한 난수 발생을 위해 random 모듈 포함 \n",
    "from queue import Queue # 파이썬 queue 모듈의 Queue 사용 \n",
    "def radix_sort(A) : \n",
    "    queues = [] # 큐의 리스트 \n",
    "    for i in range(BUCKETS) : \n",
    "        queues.append(Queue()) # BUCKETS개의 큐 사용\n",
    "    n = len(A)\n",
    "    factor = 1         #1의 자리부터 시작\n",
    "    for d in range (DIGITS) :   #모든 자리에 대해\n",
    "        for i in range(n):       #자릿수에 따라 큐에 삽입\n",
    "            queues[(A[i]//factor) % BUCKETS].put(A[i]) # 숫자를 삽입\n",
    "        j=0\n",
    "        for b in range(BUCKETS) :   #버킷에서 꺼내어 원래의 리스트로\n",
    "            while not queues[b].empty():  #b번째 큐가 공백이 아닌 동안\n",
    "                A[j] = queues[b].get()    #원소를 꺼내 리스트에 저장\n",
    "                j+1\n",
    "        factor *= BUCKETS   #그 다음 자릿수로 간다.\n",
    "        print(\"step\", d+1, A)   #중간 과정 출력용 문장\n",
    "        \n",
    "BUCKETS = 10 # 10진법으로 정렬 \n",
    "DIGITS = 4 # 최대 4 자릿수 \n",
    "data = [] \n",
    "for i in range(10) : \n",
    "    data.append(random.randint(1,9999)) # 1~9999 사이의 숫자 10개 생성 \n",
    "radix_sort(data) # 기수 정렬 \n",
    "print(\"Radix: \", data) # 결과 출력"
   ]
  },
  {
   "cell_type": "markdown",
   "metadata": {},
   "source": [
    "## 7. 수행결과"
   ]
  },
  {
   "attachments": {
    "6.1_2.png": {
     "image/png": "[encoded data removed]"
    }
   },
   "cell_type": "markdown",
   "metadata": {},
   "source": [
    "![6.1_2.png](attachment:6.1_2.png)"
   ]
  },
  {
   "cell_type": "markdown",
   "metadata": {},
   "source": [
    "## 8. 복잡도 분석"
   ]
  },
  {
   "cell_type": "markdown",
   "metadata": {},
   "source": [
    "알고리즘의 외부 루프(9행)는 항상 DIGITS번 반복됩니다. 내부 루프(10행)는 정확히 2번 반복되며, 13~14행에서 항목을 꺼내는 과정은 입력의 개수와 동일한 횟수만큼 수행됩니다. 따라서 전체적인 시간 복잡도는 𝑂(𝑑𝑛)\n",
    "O(dn)입니다."
   ]
  },
  {
   "cell_type": "markdown",
   "metadata": {},
   "source": [
    "## 9. 협력내용"
   ]
  },
  {
   "attachments": {
    "6.16.2_3.png": {
     "image/png": "[encoded data removed]"
    }
   },
   "cell_type": "markdown",
   "metadata": {},
   "source": [
    "![6.16.2_3.png](attachment:6.16.2_3.png)"
   ]
  }
 ],
 "metadata": {
  "kernelspec": {
   "display_name": "base",
   "language": "python",
   "name": "python3"
  },
  "language_info": {
   "codemirror_mode": {
    "name": "ipython",
    "version": 3
   },
   "file_extension": ".py",
   "mimetype": "text/x-python",
   "name": "python",
   "nbconvert_exporter": "python",
   "pygments_lexer": "ipython3",
   "version": "3.11.8"
  }
 },
 "nbformat": 4,
 "nbformat_minor": 2
}
