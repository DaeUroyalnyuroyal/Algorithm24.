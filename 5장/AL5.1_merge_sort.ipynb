{
 "cells": [
  {
   "cell_type": "markdown",
   "metadata": {},
   "source": [
    "## 202311403 박유진"
   ]
  },
  {
   "cell_type": "markdown",
   "metadata": {},
   "source": [
    "## 1. 문제 정의"
   ]
  },
  {
   "cell_type": "markdown",
   "metadata": {},
   "source": [
    "병합 정렬"
   ]
  },
  {
   "cell_type": "markdown",
   "metadata": {},
   "source": [
    "## 2. 알고리즘 설명"
   ]
  },
  {
   "cell_type": "markdown",
   "metadata": {},
   "source": [
    "분할 정복의 효과를 잘 보여주는 가장 대표적인 정렬 알고리즘의 하나이다. \n",
    "\n",
    "하나의 리스트를 같은 크기의 두 개의 부분 리스트로 분할하고, 분할된 부분 리스트를 정렬한 다음 정렬된 리스트를 병합하는 전략을 사용한다."
   ]
  },
  {
   "cell_type": "markdown",
   "metadata": {},
   "source": [
    "## 3. 손으로 푼 예제"
   ]
  },
  {
   "cell_type": "markdown",
   "metadata": {},
   "source": [
    "<img src=\"https://github.com/DaeUroyalnyuroyal/Algorithm245/blob/main/5%EC%9E%A5/%EC%9D%B4%EB%AF%B8%EC%A7%80/5.1.jpg?raw=true\">"
   ]
  },
  {
   "cell_type": "markdown",
   "metadata": {},
   "source": [
    "## 4. 코드 개요(입력 변수, 출력, 함수 설명)\n"
   ]
  },
  {
   "cell_type": "markdown",
   "metadata": {},
   "source": [
    "함수명: merge_sort\n",
    "\n",
    "입력: A (리스트), left (시작 인덱스), right (끝 인덱스)\n",
    "\n",
    "변환값: 정렬된 리스트 A\n",
    "\n",
    "1. 주어진 리스트 `A`의 `left`부터 `right`까지의 범위를 오름차순으로 정렬합니다.\n",
    "2. 만약 `left`가 `right`보다 작다면:\n",
    "   - 중간 지점을 계산하여 `mid`에 저장합니다.\n",
    "   - `left`부터 `mid`까지를 `merge_sort`를 통해 정렬합니다.\n",
    "   - `mid+1`부터 `right`까지를 `merge_sort`를 통해 정렬합니다.\n",
    "   - 정렬된 부분 리스트를 `merge` 함수를 사용하여 병합합니다.\n",
    "3. 만약 `left`가 `right`와 같거나 크다면, 항목이 1개인 경우이므로 이미 정복되었음을 나타내어 정렬된 리스트를 반환합니다."
   ]
  },
  {
   "cell_type": "markdown",
   "metadata": {},
   "source": [
    "## 5. 코드(py)"
   ]
  },
  {
   "cell_type": "code",
   "execution_count": null,
   "metadata": {},
   "outputs": [],
   "source": [
    "def merge_sort (A, left, right):# Alleft..right]를 오름차순으로 정렬\n",
    "    if left<right:              #항목이 2개 이상인 경우\n",
    "        mid = (left + right) // 2 #리스트의 균등 분할\n",
    "        merge_sort(A, left, mid) #부분 리스트 정렬\n",
    "        merge_sort(A, mid+1, right) # 부분 리스트 정렬\n",
    "        merge(A, left, mid, right)#병합\n",
    "#else: 항목이 1개 인 경우 자동으로 정복되었음(하나이므로)"
   ]
  },
  {
   "cell_type": "markdown",
   "metadata": {},
   "source": [
    "## 6. 테스트"
   ]
  },
  {
   "cell_type": "code",
   "execution_count": 3,
   "metadata": {},
   "outputs": [
    {
     "name": "stdout",
     "output_type": "stream",
     "text": [
      "Original :  [5, 3, 8, 4, 9, 1, 6, 2, 7]\n",
      "MergeSort:  [1, 2, 3, 4, 5, 6, 7, 8, 9]\n"
     ]
    }
   ],
   "source": [
    "def merge_sort (A, left, right):# Alleft..right]를 오름차순으로 정렬\n",
    "    if left<right:              #항목이 2개 이상인 경우\n",
    "        mid = (left + right) // 2 #리스트의 균등 분할\n",
    "        merge_sort(A, left, mid) #부분 리스트 정렬\n",
    "        merge_sort(A, mid+1, right) # 부분 리스트 정렬\n",
    "        merge(A, left, mid, right)#병합\n",
    "#else: 항목이 1개 인 경우 자동으로 정복되었음(하나이므로)\n",
    "\n",
    "def merge(A, left, mid, right):\n",
    "    k = left#병합을 위한 임시 리스트의 인덱스\n",
    "    i = left#왼쪽 리스트의 인덱스\n",
    "    j = mid + 1#오른쪽 리스트의 인덱스\n",
    "    while i<=mid and j<=right:\n",
    "        if A[i] <= A[j]: #기본 연산\n",
    "            sorted[k] = A[i]\n",
    "            i, k = i+1, k+1\n",
    "        else:\n",
    "            sorted[k] = A[j]\n",
    "            j, k = j+1, k+1\n",
    "    if i>mid:#한쪽에 남아 있는 레코드의 일괄 복사\n",
    "        sorted[k:k+right-j+1] =A[j:right+1] #리스트의 슬라이싱 이용\n",
    "    else:\n",
    "        sorted[k:k+mid-i+1] = A[i:mid+1] #리스트의 슬라이싱 이용\n",
    "    A[left:right+1] = sorted[left:right+1] # sorted A에 다시 복사\n",
    "\n",
    "data= [5, 3, 8, 4, 9, 1, 6, 2, 7]#입력 리스트\n",
    "sorted = [0] * len(data)#길이가 len(data)인 임시 리스트를\n",
    "print(\"Original : \", data)#만들고 모든 항목을 0으로 초기화\n",
    "merge_sort(data, 0, len(data)-1)#병합 정렬\n",
    "print(\"MergeSort: \", data)\n"
   ]
  },
  {
   "cell_type": "markdown",
   "metadata": {},
   "source": [
    "## 7. 결과"
   ]
  },
  {
   "attachments": {
    "5.1_2_2.png": {
     "image/png": "[encoded data removed]"
    }
   },
   "cell_type": "markdown",
   "metadata": {},
   "source": [
    "![5.1_2_2.png](attachment:5.1_2_2.png)"
   ]
  },
  {
   "cell_type": "markdown",
   "metadata": {},
   "source": [
    "## 8. 복잡도 분석"
   ]
  },
  {
   "cell_type": "markdown",
   "metadata": {},
   "source": [
    "이 코드의 복잡도는 O(n log n)입니다. 이는 merge sort의 시간 복잡도이며, 리스트의 길이가 n일 때, 평균적으로 n log n번의 비교 연산을 수행합니다."
   ]
  }
 ],
 "metadata": {
  "kernelspec": {
   "display_name": "base",
   "language": "python",
   "name": "python3"
  },
  "language_info": {
   "codemirror_mode": {
    "name": "ipython",
    "version": 3
   },
   "file_extension": ".py",
   "mimetype": "text/x-python",
   "name": "python",
   "nbconvert_exporter": "python",
   "pygments_lexer": "ipython3",
   "version": "3.11.8"
  }
 },
 "nbformat": 4,
 "nbformat_minor": 2
}
